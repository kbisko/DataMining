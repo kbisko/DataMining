{
 "cells": [
  {
   "cell_type": "code",
   "execution_count": 3,
   "metadata": {
    "ExecuteTime": {
     "end_time": "2017-03-10T10:06:26.538598",
     "start_time": "2017-03-10T10:06:24.572676"
    },
    "collapsed": false
   },
   "outputs": [
    {
     "name": "stderr",
     "output_type": "stream",
     "text": [
      "Using TensorFlow backend.\n"
     ]
    }
   ],
   "source": [
    "import numpy as np\n",
    "import pandas as pd\n",
    "import scipy as sci\n",
    "import math as math\n",
    "import itertools\n",
    "import matplotlib.pyplot as plt\n",
    "from keras.models import Sequential\n",
    "from keras.layers import Dense\n",
    "from keras.wrappers.scikit_learn import KerasClassifier\n",
    "from keras.utils import np_utils\n",
    "from sklearn.model_selection import cross_val_score, KFold, cross_val_predict \n",
    "from sklearn.preprocessing import StandardScaler, LabelEncoder\n",
    "from sklearn.pipeline import Pipeline\n",
    "from sklearn import metrics\n",
    "from sklearn.neural_network import MLPRegressor"
   ]
  },
  {
   "cell_type": "code",
   "execution_count": 4,
   "metadata": {
    "ExecuteTime": {
     "end_time": "2017-03-10T10:06:28.828717",
     "start_time": "2017-03-10T10:06:28.816761"
    },
    "collapsed": false
   },
   "outputs": [],
   "source": [
    "df=pd.read_table('~/Data_Mining/dm_hw3_dataset.csv', sep=',')"
   ]
  },
  {
   "cell_type": "code",
   "execution_count": 5,
   "metadata": {
    "ExecuteTime": {
     "end_time": "2017-03-10T10:06:30.140626",
     "start_time": "2017-03-10T10:06:30.135102"
    },
    "collapsed": false
   },
   "outputs": [],
   "source": [
    "# this is a less detailed result variable, so it is removed since it gives the same information as our y\n",
    "del df['healthyInd']"
   ]
  },
  {
   "cell_type": "code",
   "execution_count": 66,
   "metadata": {
    "ExecuteTime": {
     "end_time": "2017-03-10T10:01:41.071148",
     "start_time": "2017-03-10T10:01:41.064548"
    },
    "collapsed": false
   },
   "outputs": [
    {
     "data": {
      "text/plain": [
       "['age',\n",
       " 'gender',\n",
       " 'chestPainType',\n",
       " 'tRestBps',\n",
       " 'cholesteral',\n",
       " 'fBsLt120',\n",
       " 'restEcg',\n",
       " 'maxHr',\n",
       " 'exerIndAngina',\n",
       " 'oldPeak',\n",
       " 'slope',\n",
       " 'noVessColored',\n",
       " 'thal',\n",
       " 'indicator']"
      ]
     },
     "execution_count": 66,
     "metadata": {},
     "output_type": "execute_result"
    }
   ],
   "source": [
    "list(df.columns)"
   ]
  },
  {
   "cell_type": "code",
   "execution_count": 5,
   "metadata": {
    "ExecuteTime": {
     "end_time": "2017-03-10T09:07:59.135835",
     "start_time": "2017-03-10T09:07:59.095425"
    },
    "collapsed": false
   },
   "outputs": [
    {
     "data": {
      "text/html": [
       "<div>\n",
       "<table border=\"1\" class=\"dataframe\">\n",
       "  <thead>\n",
       "    <tr style=\"text-align: right;\">\n",
       "      <th></th>\n",
       "      <th>age</th>\n",
       "      <th>gender</th>\n",
       "      <th>chestPainType</th>\n",
       "      <th>tRestBps</th>\n",
       "      <th>cholesteral</th>\n",
       "      <th>fBsLt120</th>\n",
       "      <th>restEcg</th>\n",
       "      <th>maxHr</th>\n",
       "      <th>exerIndAngina</th>\n",
       "      <th>oldPeak</th>\n",
       "      <th>slope</th>\n",
       "      <th>noVessColored</th>\n",
       "      <th>thal</th>\n",
       "      <th>indicator</th>\n",
       "    </tr>\n",
       "  </thead>\n",
       "  <tbody>\n",
       "    <tr>\n",
       "      <th>82</th>\n",
       "      <td>53.0</td>\n",
       "      <td>fem</td>\n",
       "      <td>notang</td>\n",
       "      <td>128.0</td>\n",
       "      <td>216.0</td>\n",
       "      <td>fal</td>\n",
       "      <td>hyp</td>\n",
       "      <td>115.0</td>\n",
       "      <td>fal</td>\n",
       "      <td>0.0</td>\n",
       "      <td>up</td>\n",
       "      <td>0.0</td>\n",
       "      <td>?</td>\n",
       "      <td>H</td>\n",
       "    </tr>\n",
       "    <tr>\n",
       "      <th>198</th>\n",
       "      <td>52.0</td>\n",
       "      <td>male</td>\n",
       "      <td>asympt</td>\n",
       "      <td>128.0</td>\n",
       "      <td>204.0</td>\n",
       "      <td>true</td>\n",
       "      <td>norm</td>\n",
       "      <td>156.0</td>\n",
       "      <td>true</td>\n",
       "      <td>1.0</td>\n",
       "      <td>flat</td>\n",
       "      <td>0.0</td>\n",
       "      <td>?</td>\n",
       "      <td>S2</td>\n",
       "    </tr>\n",
       "  </tbody>\n",
       "</table>\n",
       "</div>"
      ],
      "text/plain": [
       "      age gender chestPainType  tRestBps  cholesteral fBsLt120 restEcg  maxHr  \\\n",
       "82   53.0    fem        notang     128.0        216.0      fal     hyp  115.0   \n",
       "198  52.0   male        asympt     128.0        204.0     true    norm  156.0   \n",
       "\n",
       "    exerIndAngina  oldPeak slope noVessColored thal indicator  \n",
       "82            fal      0.0    up           0.0    ?         H  \n",
       "198          true      1.0  flat           0.0    ?        S2  "
      ]
     },
     "execution_count": 5,
     "metadata": {},
     "output_type": "execute_result"
    }
   ],
   "source": [
    "df[df['thal']=='?']"
   ]
  },
  {
   "cell_type": "code",
   "execution_count": 6,
   "metadata": {
    "ExecuteTime": {
     "end_time": "2017-03-10T09:08:00.852538",
     "start_time": "2017-03-10T09:08:00.825467"
    },
    "collapsed": false
   },
   "outputs": [
    {
     "data": {
      "text/html": [
       "<div>\n",
       "<table border=\"1\" class=\"dataframe\">\n",
       "  <thead>\n",
       "    <tr style=\"text-align: right;\">\n",
       "      <th></th>\n",
       "      <th>age</th>\n",
       "      <th>gender</th>\n",
       "      <th>chestPainType</th>\n",
       "      <th>tRestBps</th>\n",
       "      <th>cholesteral</th>\n",
       "      <th>fBsLt120</th>\n",
       "      <th>restEcg</th>\n",
       "      <th>maxHr</th>\n",
       "      <th>exerIndAngina</th>\n",
       "      <th>oldPeak</th>\n",
       "      <th>slope</th>\n",
       "      <th>noVessColored</th>\n",
       "      <th>thal</th>\n",
       "      <th>indicator</th>\n",
       "    </tr>\n",
       "  </thead>\n",
       "  <tbody>\n",
       "    <tr>\n",
       "      <th>143</th>\n",
       "      <td>52.0</td>\n",
       "      <td>male</td>\n",
       "      <td>notang</td>\n",
       "      <td>138.0</td>\n",
       "      <td>223.0</td>\n",
       "      <td>fal</td>\n",
       "      <td>norm</td>\n",
       "      <td>169.0</td>\n",
       "      <td>fal</td>\n",
       "      <td>0.0</td>\n",
       "      <td>up</td>\n",
       "      <td>?</td>\n",
       "      <td>norm</td>\n",
       "      <td>H</td>\n",
       "    </tr>\n",
       "    <tr>\n",
       "      <th>157</th>\n",
       "      <td>38.0</td>\n",
       "      <td>male</td>\n",
       "      <td>notang</td>\n",
       "      <td>138.0</td>\n",
       "      <td>175.0</td>\n",
       "      <td>fal</td>\n",
       "      <td>norm</td>\n",
       "      <td>173.0</td>\n",
       "      <td>fal</td>\n",
       "      <td>0.0</td>\n",
       "      <td>up</td>\n",
       "      <td>?</td>\n",
       "      <td>norm</td>\n",
       "      <td>H</td>\n",
       "    </tr>\n",
       "    <tr>\n",
       "      <th>165</th>\n",
       "      <td>43.0</td>\n",
       "      <td>male</td>\n",
       "      <td>asympt</td>\n",
       "      <td>132.0</td>\n",
       "      <td>247.0</td>\n",
       "      <td>true</td>\n",
       "      <td>hyp</td>\n",
       "      <td>143.0</td>\n",
       "      <td>true</td>\n",
       "      <td>0.1</td>\n",
       "      <td>flat</td>\n",
       "      <td>?</td>\n",
       "      <td>rev</td>\n",
       "      <td>S1</td>\n",
       "    </tr>\n",
       "    <tr>\n",
       "      <th>250</th>\n",
       "      <td>58.0</td>\n",
       "      <td>male</td>\n",
       "      <td>abnang</td>\n",
       "      <td>125.0</td>\n",
       "      <td>220.0</td>\n",
       "      <td>fal</td>\n",
       "      <td>norm</td>\n",
       "      <td>144.0</td>\n",
       "      <td>fal</td>\n",
       "      <td>0.4</td>\n",
       "      <td>flat</td>\n",
       "      <td>?</td>\n",
       "      <td>rev</td>\n",
       "      <td>H</td>\n",
       "    </tr>\n",
       "    <tr>\n",
       "      <th>262</th>\n",
       "      <td>38.0</td>\n",
       "      <td>male</td>\n",
       "      <td>notang</td>\n",
       "      <td>138.0</td>\n",
       "      <td>175.0</td>\n",
       "      <td>fal</td>\n",
       "      <td>norm</td>\n",
       "      <td>173.0</td>\n",
       "      <td>fal</td>\n",
       "      <td>0.0</td>\n",
       "      <td>up</td>\n",
       "      <td>?</td>\n",
       "      <td>norm</td>\n",
       "      <td>H</td>\n",
       "    </tr>\n",
       "  </tbody>\n",
       "</table>\n",
       "</div>"
      ],
      "text/plain": [
       "      age gender chestPainType  tRestBps  cholesteral fBsLt120 restEcg  maxHr  \\\n",
       "143  52.0   male        notang     138.0        223.0      fal    norm  169.0   \n",
       "157  38.0   male        notang     138.0        175.0      fal    norm  173.0   \n",
       "165  43.0   male        asympt     132.0        247.0     true     hyp  143.0   \n",
       "250  58.0   male        abnang     125.0        220.0      fal    norm  144.0   \n",
       "262  38.0   male        notang     138.0        175.0      fal    norm  173.0   \n",
       "\n",
       "    exerIndAngina  oldPeak slope noVessColored  thal indicator  \n",
       "143           fal      0.0    up             ?  norm         H  \n",
       "157           fal      0.0    up             ?  norm         H  \n",
       "165          true      0.1  flat             ?   rev        S1  \n",
       "250           fal      0.4  flat             ?   rev         H  \n",
       "262           fal      0.0    up             ?  norm         H  "
      ]
     },
     "execution_count": 6,
     "metadata": {},
     "output_type": "execute_result"
    }
   ],
   "source": [
    "df[df['noVessColored']=='?']"
   ]
  },
  {
   "cell_type": "code",
   "execution_count": 6,
   "metadata": {
    "ExecuteTime": {
     "end_time": "2017-03-10T10:06:33.609819",
     "start_time": "2017-03-10T10:06:33.600384"
    },
    "collapsed": false
   },
   "outputs": [],
   "source": [
    "# the unknown values mess with the classifier, since we can not know the actual value they are removed\n",
    "df=df[(df['noVessColored']!='?') & (df['thal']!='?')]"
   ]
  },
  {
   "cell_type": "code",
   "execution_count": 9,
   "metadata": {
    "ExecuteTime": {
     "end_time": "2017-03-10T09:08:52.518721",
     "start_time": "2017-03-10T09:08:52.474662"
    },
    "collapsed": false
   },
   "outputs": [
    {
     "data": {
      "text/plain": [
       "age              float64\n",
       "gender            object\n",
       "chestPainType     object\n",
       "tRestBps         float64\n",
       "cholesteral      float64\n",
       "fBsLt120          object\n",
       "restEcg           object\n",
       "maxHr            float64\n",
       "exerIndAngina     object\n",
       "oldPeak          float64\n",
       "slope             object\n",
       "noVessColored    float64\n",
       "thal              object\n",
       "indicator         object\n",
       "dtype: object"
      ]
     },
     "execution_count": 9,
     "metadata": {},
     "output_type": "execute_result"
    }
   ],
   "source": [
    "# the vessels column was originally marked as char since there was a '?' present. it is reassigned as a numerical value. \n",
    "#df['noVessColored'] = df['noVessColored'].apply(pd.to_numeric)\n",
    "#df.dtypes"
   ]
  },
  {
   "cell_type": "code",
   "execution_count": 7,
   "metadata": {
    "ExecuteTime": {
     "end_time": "2017-03-10T10:06:36.602183",
     "start_time": "2017-03-10T10:06:36.574572"
    },
    "collapsed": false
   },
   "outputs": [
    {
     "name": "stdout",
     "output_type": "stream",
     "text": [
      "All features:          cholesteral, restEcg, noVessColored, chestPainType, slope, gender, exerIndAngina, age, fBsLt120, thal, tRestBps, oldPeak, maxHr \n",
      "Numerical features:    cholesteral, age, tRestBps, oldPeak, maxHr \n",
      "Categorical features:  restEcg, noVessColored, chestPainType, slope, gender, exerIndAngina, thal, fBsLt120\n"
     ]
    }
   ],
   "source": [
    "# the features are all marked as numeric or categorical for future manipulation\n",
    "all_features = set(df.columns)-set(['indicator'])\n",
    "num_features = set(df.describe().columns)-set(['indicator'])\n",
    "cat_features = all_features-num_features\n",
    "\n",
    "print(\"All features:         \", \", \".join(all_features), \"\\nNumerical features:   \", \", \".join(num_features), \"\\nCategorical features: \", \", \".join(cat_features))"
   ]
  },
  {
   "cell_type": "code",
   "execution_count": 8,
   "metadata": {
    "ExecuteTime": {
     "end_time": "2017-03-10T10:06:38.368219",
     "start_time": "2017-03-10T10:06:38.359237"
    },
    "collapsed": false
   },
   "outputs": [],
   "source": [
    "# the dataset is split into predictors & prediction\n",
    "X = df[list(cat_features)]\n",
    "y = df['indicator']"
   ]
  },
  {
   "cell_type": "code",
   "execution_count": 9,
   "metadata": {
    "ExecuteTime": {
     "end_time": "2017-03-10T10:06:40.563995",
     "start_time": "2017-03-10T10:06:40.483292"
    },
    "collapsed": false
   },
   "outputs": [
    {
     "data": {
      "text/html": [
       "<div>\n",
       "<table border=\"1\" class=\"dataframe\">\n",
       "  <thead>\n",
       "    <tr style=\"text-align: right;\">\n",
       "      <th></th>\n",
       "      <th>restEcg_abn</th>\n",
       "      <th>restEcg_hyp</th>\n",
       "      <th>restEcg_norm</th>\n",
       "      <th>noVessColored_0.0</th>\n",
       "      <th>noVessColored_1.0</th>\n",
       "      <th>noVessColored_2.0</th>\n",
       "      <th>noVessColored_3.0</th>\n",
       "      <th>chestPainType_abnang</th>\n",
       "      <th>chestPainType_angina</th>\n",
       "      <th>chestPainType_asympt</th>\n",
       "      <th>...</th>\n",
       "      <th>slope_up</th>\n",
       "      <th>gender_fem</th>\n",
       "      <th>gender_male</th>\n",
       "      <th>exerIndAngina_fal</th>\n",
       "      <th>exerIndAngina_true</th>\n",
       "      <th>thal_fix</th>\n",
       "      <th>thal_norm</th>\n",
       "      <th>thal_rev</th>\n",
       "      <th>fBsLt120_fal</th>\n",
       "      <th>fBsLt120_true</th>\n",
       "    </tr>\n",
       "  </thead>\n",
       "  <tbody>\n",
       "    <tr>\n",
       "      <th>0</th>\n",
       "      <td>0.0</td>\n",
       "      <td>1.0</td>\n",
       "      <td>0.0</td>\n",
       "      <td>1.0</td>\n",
       "      <td>0.0</td>\n",
       "      <td>0.0</td>\n",
       "      <td>0.0</td>\n",
       "      <td>0.0</td>\n",
       "      <td>1.0</td>\n",
       "      <td>0.0</td>\n",
       "      <td>...</td>\n",
       "      <td>0.0</td>\n",
       "      <td>0.0</td>\n",
       "      <td>1.0</td>\n",
       "      <td>1.0</td>\n",
       "      <td>0.0</td>\n",
       "      <td>1.0</td>\n",
       "      <td>0.0</td>\n",
       "      <td>0.0</td>\n",
       "      <td>0.0</td>\n",
       "      <td>1.0</td>\n",
       "    </tr>\n",
       "    <tr>\n",
       "      <th>1</th>\n",
       "      <td>0.0</td>\n",
       "      <td>1.0</td>\n",
       "      <td>0.0</td>\n",
       "      <td>0.0</td>\n",
       "      <td>0.0</td>\n",
       "      <td>0.0</td>\n",
       "      <td>1.0</td>\n",
       "      <td>0.0</td>\n",
       "      <td>0.0</td>\n",
       "      <td>1.0</td>\n",
       "      <td>...</td>\n",
       "      <td>0.0</td>\n",
       "      <td>0.0</td>\n",
       "      <td>1.0</td>\n",
       "      <td>0.0</td>\n",
       "      <td>1.0</td>\n",
       "      <td>0.0</td>\n",
       "      <td>1.0</td>\n",
       "      <td>0.0</td>\n",
       "      <td>1.0</td>\n",
       "      <td>0.0</td>\n",
       "    </tr>\n",
       "    <tr>\n",
       "      <th>2</th>\n",
       "      <td>0.0</td>\n",
       "      <td>1.0</td>\n",
       "      <td>0.0</td>\n",
       "      <td>0.0</td>\n",
       "      <td>0.0</td>\n",
       "      <td>1.0</td>\n",
       "      <td>0.0</td>\n",
       "      <td>0.0</td>\n",
       "      <td>0.0</td>\n",
       "      <td>1.0</td>\n",
       "      <td>...</td>\n",
       "      <td>0.0</td>\n",
       "      <td>0.0</td>\n",
       "      <td>1.0</td>\n",
       "      <td>0.0</td>\n",
       "      <td>1.0</td>\n",
       "      <td>0.0</td>\n",
       "      <td>0.0</td>\n",
       "      <td>1.0</td>\n",
       "      <td>1.0</td>\n",
       "      <td>0.0</td>\n",
       "    </tr>\n",
       "    <tr>\n",
       "      <th>3</th>\n",
       "      <td>0.0</td>\n",
       "      <td>0.0</td>\n",
       "      <td>1.0</td>\n",
       "      <td>1.0</td>\n",
       "      <td>0.0</td>\n",
       "      <td>0.0</td>\n",
       "      <td>0.0</td>\n",
       "      <td>0.0</td>\n",
       "      <td>0.0</td>\n",
       "      <td>0.0</td>\n",
       "      <td>...</td>\n",
       "      <td>0.0</td>\n",
       "      <td>0.0</td>\n",
       "      <td>1.0</td>\n",
       "      <td>1.0</td>\n",
       "      <td>0.0</td>\n",
       "      <td>0.0</td>\n",
       "      <td>1.0</td>\n",
       "      <td>0.0</td>\n",
       "      <td>1.0</td>\n",
       "      <td>0.0</td>\n",
       "    </tr>\n",
       "    <tr>\n",
       "      <th>4</th>\n",
       "      <td>0.0</td>\n",
       "      <td>1.0</td>\n",
       "      <td>0.0</td>\n",
       "      <td>1.0</td>\n",
       "      <td>0.0</td>\n",
       "      <td>0.0</td>\n",
       "      <td>0.0</td>\n",
       "      <td>1.0</td>\n",
       "      <td>0.0</td>\n",
       "      <td>0.0</td>\n",
       "      <td>...</td>\n",
       "      <td>1.0</td>\n",
       "      <td>1.0</td>\n",
       "      <td>0.0</td>\n",
       "      <td>1.0</td>\n",
       "      <td>0.0</td>\n",
       "      <td>0.0</td>\n",
       "      <td>1.0</td>\n",
       "      <td>0.0</td>\n",
       "      <td>1.0</td>\n",
       "      <td>0.0</td>\n",
       "    </tr>\n",
       "  </tbody>\n",
       "</table>\n",
       "<p>5 rows × 23 columns</p>\n",
       "</div>"
      ],
      "text/plain": [
       "   restEcg_abn  restEcg_hyp  restEcg_norm  noVessColored_0.0  \\\n",
       "0          0.0          1.0           0.0                1.0   \n",
       "1          0.0          1.0           0.0                0.0   \n",
       "2          0.0          1.0           0.0                0.0   \n",
       "3          0.0          0.0           1.0                1.0   \n",
       "4          0.0          1.0           0.0                1.0   \n",
       "\n",
       "   noVessColored_1.0  noVessColored_2.0  noVessColored_3.0  \\\n",
       "0                0.0                0.0                0.0   \n",
       "1                0.0                0.0                1.0   \n",
       "2                0.0                1.0                0.0   \n",
       "3                0.0                0.0                0.0   \n",
       "4                0.0                0.0                0.0   \n",
       "\n",
       "   chestPainType_abnang  chestPainType_angina  chestPainType_asympt  \\\n",
       "0                   0.0                   1.0                   0.0   \n",
       "1                   0.0                   0.0                   1.0   \n",
       "2                   0.0                   0.0                   1.0   \n",
       "3                   0.0                   0.0                   0.0   \n",
       "4                   1.0                   0.0                   0.0   \n",
       "\n",
       "       ...        slope_up  gender_fem  gender_male  exerIndAngina_fal  \\\n",
       "0      ...             0.0         0.0          1.0                1.0   \n",
       "1      ...             0.0         0.0          1.0                0.0   \n",
       "2      ...             0.0         0.0          1.0                0.0   \n",
       "3      ...             0.0         0.0          1.0                1.0   \n",
       "4      ...             1.0         1.0          0.0                1.0   \n",
       "\n",
       "   exerIndAngina_true  thal_fix  thal_norm  thal_rev  fBsLt120_fal  \\\n",
       "0                 0.0       1.0        0.0       0.0           0.0   \n",
       "1                 1.0       0.0        1.0       0.0           1.0   \n",
       "2                 1.0       0.0        0.0       1.0           1.0   \n",
       "3                 0.0       0.0        1.0       0.0           1.0   \n",
       "4                 0.0       0.0        1.0       0.0           1.0   \n",
       "\n",
       "   fBsLt120_true  \n",
       "0            1.0  \n",
       "1            0.0  \n",
       "2            0.0  \n",
       "3            0.0  \n",
       "4            0.0  \n",
       "\n",
       "[5 rows x 23 columns]"
      ]
     },
     "execution_count": 9,
     "metadata": {},
     "output_type": "execute_result"
    }
   ],
   "source": [
    "# the categorical variables are transformed to dummy values\n",
    "df2 = pd.get_dummies(X,columns = cat_features)\n",
    "df2.head()"
   ]
  },
  {
   "cell_type": "code",
   "execution_count": 10,
   "metadata": {
    "ExecuteTime": {
     "end_time": "2017-03-10T10:06:44.852674",
     "start_time": "2017-03-10T10:06:43.033003"
    },
    "collapsed": false
   },
   "outputs": [
    {
     "data": {
      "image/png": "[encoded data removed]",
      "text/plain": [
       "<matplotlib.figure.Figure at 0x7f6227df77f0>"
      ]
     },
     "metadata": {},
     "output_type": "display_data"
    }
   ],
   "source": [
    "# plot the numerical values to get a sense of the data\n",
    "%matplotlib inline\n",
    "fig = plt.figure(figsize=(32, 32))\n",
    "for i in range(len(num_features)):\n",
    "    f = list(num_features)[i]\n",
    "    plt.subplot(5, 3, i+1)\n",
    "    hst = plt.hist(df[f].dropna(axis=0), alpha=0.5)\n",
    "    plt.title(f)\n",
    "plt.suptitle('Distribution of Numeric Values', fontsize=20)\n",
    "fig.savefig('num_features.png')\n",
    "None"
   ]
  },
  {
   "cell_type": "code",
   "execution_count": 11,
   "metadata": {
    "ExecuteTime": {
     "end_time": "2017-03-10T10:06:47.717080",
     "start_time": "2017-03-10T10:06:47.674337"
    },
    "collapsed": false
   },
   "outputs": [
    {
     "data": {
      "text/html": [
       "<div>\n",
       "<table border=\"1\" class=\"dataframe\">\n",
       "  <thead>\n",
       "    <tr style=\"text-align: right;\">\n",
       "      <th></th>\n",
       "      <th>age</th>\n",
       "      <th>tRestBps</th>\n",
       "      <th>cholesteral</th>\n",
       "      <th>maxHr</th>\n",
       "      <th>oldPeak</th>\n",
       "    </tr>\n",
       "  </thead>\n",
       "  <tbody>\n",
       "    <tr>\n",
       "      <th>count</th>\n",
       "      <td>296.000000</td>\n",
       "      <td>296.00000</td>\n",
       "      <td>296.000000</td>\n",
       "      <td>296.000000</td>\n",
       "      <td>296.000000</td>\n",
       "    </tr>\n",
       "    <tr>\n",
       "      <th>mean</th>\n",
       "      <td>54.523649</td>\n",
       "      <td>131.60473</td>\n",
       "      <td>247.155405</td>\n",
       "      <td>149.560811</td>\n",
       "      <td>1.059122</td>\n",
       "    </tr>\n",
       "    <tr>\n",
       "      <th>std</th>\n",
       "      <td>9.059471</td>\n",
       "      <td>17.72662</td>\n",
       "      <td>51.977011</td>\n",
       "      <td>22.970792</td>\n",
       "      <td>1.166474</td>\n",
       "    </tr>\n",
       "    <tr>\n",
       "      <th>min</th>\n",
       "      <td>29.000000</td>\n",
       "      <td>94.00000</td>\n",
       "      <td>126.000000</td>\n",
       "      <td>71.000000</td>\n",
       "      <td>0.000000</td>\n",
       "    </tr>\n",
       "    <tr>\n",
       "      <th>25%</th>\n",
       "      <td>48.000000</td>\n",
       "      <td>120.00000</td>\n",
       "      <td>211.000000</td>\n",
       "      <td>133.000000</td>\n",
       "      <td>0.000000</td>\n",
       "    </tr>\n",
       "    <tr>\n",
       "      <th>50%</th>\n",
       "      <td>56.000000</td>\n",
       "      <td>130.00000</td>\n",
       "      <td>242.500000</td>\n",
       "      <td>152.500000</td>\n",
       "      <td>0.800000</td>\n",
       "    </tr>\n",
       "    <tr>\n",
       "      <th>75%</th>\n",
       "      <td>61.000000</td>\n",
       "      <td>140.00000</td>\n",
       "      <td>275.250000</td>\n",
       "      <td>166.000000</td>\n",
       "      <td>1.650000</td>\n",
       "    </tr>\n",
       "    <tr>\n",
       "      <th>max</th>\n",
       "      <td>77.000000</td>\n",
       "      <td>200.00000</td>\n",
       "      <td>564.000000</td>\n",
       "      <td>202.000000</td>\n",
       "      <td>6.200000</td>\n",
       "    </tr>\n",
       "  </tbody>\n",
       "</table>\n",
       "</div>"
      ],
      "text/plain": [
       "              age   tRestBps  cholesteral       maxHr     oldPeak\n",
       "count  296.000000  296.00000   296.000000  296.000000  296.000000\n",
       "mean    54.523649  131.60473   247.155405  149.560811    1.059122\n",
       "std      9.059471   17.72662    51.977011   22.970792    1.166474\n",
       "min     29.000000   94.00000   126.000000   71.000000    0.000000\n",
       "25%     48.000000  120.00000   211.000000  133.000000    0.000000\n",
       "50%     56.000000  130.00000   242.500000  152.500000    0.800000\n",
       "75%     61.000000  140.00000   275.250000  166.000000    1.650000\n",
       "max     77.000000  200.00000   564.000000  202.000000    6.200000"
      ]
     },
     "execution_count": 11,
     "metadata": {},
     "output_type": "execute_result"
    }
   ],
   "source": [
    "df.describe()"
   ]
  },
  {
   "cell_type": "markdown",
   "metadata": {},
   "source": [
    "#rescale the x numeric values to reduce bias, except the oldPeak since this does not follow a normal distribution & is already close to 0. "
   ]
  },
  {
   "cell_type": "code",
   "execution_count": 12,
   "metadata": {
    "ExecuteTime": {
     "end_time": "2017-03-10T10:06:50.347110",
     "start_time": "2017-03-10T10:06:50.342178"
    },
    "collapsed": false
   },
   "outputs": [],
   "source": [
    "df2['oldPeak']=df['oldPeak']"
   ]
  },
  {
   "cell_type": "code",
   "execution_count": 13,
   "metadata": {
    "ExecuteTime": {
     "end_time": "2017-03-10T10:06:53.332233",
     "start_time": "2017-03-10T10:06:53.326975"
    },
    "collapsed": false
   },
   "outputs": [],
   "source": [
    "values = df[['age', 'tRestBps', 'maxHr', 'cholesteral']]"
   ]
  },
  {
   "cell_type": "code",
   "execution_count": 14,
   "metadata": {
    "ExecuteTime": {
     "end_time": "2017-03-10T10:06:54.678377",
     "start_time": "2017-03-10T10:06:54.625245"
    },
    "collapsed": false
   },
   "outputs": [
    {
     "name": "stderr",
     "output_type": "stream",
     "text": [
      "/usr/lib64/python3.4/site-packages/sklearn/preprocessing/data.py:586: DeprecationWarning: Passing 1d arrays as data is deprecated in 0.17 and will raise ValueError in 0.19. Reshape your data either using X.reshape(-1, 1) if your data has a single feature or X.reshape(1, -1) if it contains a single sample.\n",
      "  warnings.warn(DEPRECATION_MSG_1D, DeprecationWarning)\n",
      "/usr/lib64/python3.4/site-packages/sklearn/preprocessing/data.py:649: DeprecationWarning: Passing 1d arrays as data is deprecated in 0.17 and will raise ValueError in 0.19. Reshape your data either using X.reshape(-1, 1) if your data has a single feature or X.reshape(1, -1) if it contains a single sample.\n",
      "  warnings.warn(DEPRECATION_MSG_1D, DeprecationWarning)\n",
      "/usr/lib64/python3.4/site-packages/sklearn/preprocessing/data.py:586: DeprecationWarning: Passing 1d arrays as data is deprecated in 0.17 and will raise ValueError in 0.19. Reshape your data either using X.reshape(-1, 1) if your data has a single feature or X.reshape(1, -1) if it contains a single sample.\n",
      "  warnings.warn(DEPRECATION_MSG_1D, DeprecationWarning)\n",
      "/usr/lib64/python3.4/site-packages/sklearn/preprocessing/data.py:649: DeprecationWarning: Passing 1d arrays as data is deprecated in 0.17 and will raise ValueError in 0.19. Reshape your data either using X.reshape(-1, 1) if your data has a single feature or X.reshape(1, -1) if it contains a single sample.\n",
      "  warnings.warn(DEPRECATION_MSG_1D, DeprecationWarning)\n",
      "/usr/lib64/python3.4/site-packages/sklearn/preprocessing/data.py:586: DeprecationWarning: Passing 1d arrays as data is deprecated in 0.17 and will raise ValueError in 0.19. Reshape your data either using X.reshape(-1, 1) if your data has a single feature or X.reshape(1, -1) if it contains a single sample.\n",
      "  warnings.warn(DEPRECATION_MSG_1D, DeprecationWarning)\n",
      "/usr/lib64/python3.4/site-packages/sklearn/preprocessing/data.py:649: DeprecationWarning: Passing 1d arrays as data is deprecated in 0.17 and will raise ValueError in 0.19. Reshape your data either using X.reshape(-1, 1) if your data has a single feature or X.reshape(1, -1) if it contains a single sample.\n",
      "  warnings.warn(DEPRECATION_MSG_1D, DeprecationWarning)\n",
      "/usr/lib64/python3.4/site-packages/sklearn/preprocessing/data.py:586: DeprecationWarning: Passing 1d arrays as data is deprecated in 0.17 and will raise ValueError in 0.19. Reshape your data either using X.reshape(-1, 1) if your data has a single feature or X.reshape(1, -1) if it contains a single sample.\n",
      "  warnings.warn(DEPRECATION_MSG_1D, DeprecationWarning)\n",
      "/usr/lib64/python3.4/site-packages/sklearn/preprocessing/data.py:649: DeprecationWarning: Passing 1d arrays as data is deprecated in 0.17 and will raise ValueError in 0.19. Reshape your data either using X.reshape(-1, 1) if your data has a single feature or X.reshape(1, -1) if it contains a single sample.\n",
      "  warnings.warn(DEPRECATION_MSG_1D, DeprecationWarning)\n"
     ]
    },
    {
     "data": {
      "text/html": [
       "<div>\n",
       "<table border=\"1\" class=\"dataframe\">\n",
       "  <thead>\n",
       "    <tr style=\"text-align: right;\">\n",
       "      <th></th>\n",
       "      <th>restEcg_abn</th>\n",
       "      <th>restEcg_hyp</th>\n",
       "      <th>restEcg_norm</th>\n",
       "      <th>noVessColored_0.0</th>\n",
       "      <th>noVessColored_1.0</th>\n",
       "      <th>noVessColored_2.0</th>\n",
       "      <th>noVessColored_3.0</th>\n",
       "      <th>chestPainType_abnang</th>\n",
       "      <th>chestPainType_angina</th>\n",
       "      <th>chestPainType_asympt</th>\n",
       "      <th>...</th>\n",
       "      <th>thal_fix</th>\n",
       "      <th>thal_norm</th>\n",
       "      <th>thal_rev</th>\n",
       "      <th>fBsLt120_fal</th>\n",
       "      <th>fBsLt120_true</th>\n",
       "      <th>oldPeak</th>\n",
       "      <th>age</th>\n",
       "      <th>tRestBps</th>\n",
       "      <th>maxHr</th>\n",
       "      <th>cholesteral</th>\n",
       "    </tr>\n",
       "  </thead>\n",
       "  <tbody>\n",
       "    <tr>\n",
       "      <th>0</th>\n",
       "      <td>0.0</td>\n",
       "      <td>1.0</td>\n",
       "      <td>0.0</td>\n",
       "      <td>1.0</td>\n",
       "      <td>0.0</td>\n",
       "      <td>0.0</td>\n",
       "      <td>0.0</td>\n",
       "      <td>0.0</td>\n",
       "      <td>1.0</td>\n",
       "      <td>0.0</td>\n",
       "      <td>...</td>\n",
       "      <td>1.0</td>\n",
       "      <td>0.0</td>\n",
       "      <td>0.0</td>\n",
       "      <td>0.0</td>\n",
       "      <td>1.0</td>\n",
       "      <td>2.3</td>\n",
       "      <td>0.937219</td>\n",
       "      <td>0.756938</td>\n",
       "      <td>0.019152</td>\n",
       "      <td>-0.272801</td>\n",
       "    </tr>\n",
       "    <tr>\n",
       "      <th>1</th>\n",
       "      <td>0.0</td>\n",
       "      <td>1.0</td>\n",
       "      <td>0.0</td>\n",
       "      <td>0.0</td>\n",
       "      <td>0.0</td>\n",
       "      <td>0.0</td>\n",
       "      <td>1.0</td>\n",
       "      <td>0.0</td>\n",
       "      <td>0.0</td>\n",
       "      <td>1.0</td>\n",
       "      <td>...</td>\n",
       "      <td>0.0</td>\n",
       "      <td>1.0</td>\n",
       "      <td>0.0</td>\n",
       "      <td>1.0</td>\n",
       "      <td>0.0</td>\n",
       "      <td>1.5</td>\n",
       "      <td>1.379493</td>\n",
       "      <td>1.604556</td>\n",
       "      <td>-1.812353</td>\n",
       "      <td>0.748607</td>\n",
       "    </tr>\n",
       "    <tr>\n",
       "      <th>2</th>\n",
       "      <td>0.0</td>\n",
       "      <td>1.0</td>\n",
       "      <td>0.0</td>\n",
       "      <td>0.0</td>\n",
       "      <td>0.0</td>\n",
       "      <td>1.0</td>\n",
       "      <td>0.0</td>\n",
       "      <td>0.0</td>\n",
       "      <td>0.0</td>\n",
       "      <td>1.0</td>\n",
       "      <td>...</td>\n",
       "      <td>0.0</td>\n",
       "      <td>0.0</td>\n",
       "      <td>1.0</td>\n",
       "      <td>1.0</td>\n",
       "      <td>0.0</td>\n",
       "      <td>2.6</td>\n",
       "      <td>1.379493</td>\n",
       "      <td>-0.655759</td>\n",
       "      <td>-0.896601</td>\n",
       "      <td>-0.349888</td>\n",
       "    </tr>\n",
       "    <tr>\n",
       "      <th>3</th>\n",
       "      <td>0.0</td>\n",
       "      <td>0.0</td>\n",
       "      <td>1.0</td>\n",
       "      <td>1.0</td>\n",
       "      <td>0.0</td>\n",
       "      <td>0.0</td>\n",
       "      <td>0.0</td>\n",
       "      <td>0.0</td>\n",
       "      <td>0.0</td>\n",
       "      <td>0.0</td>\n",
       "      <td>...</td>\n",
       "      <td>0.0</td>\n",
       "      <td>1.0</td>\n",
       "      <td>0.0</td>\n",
       "      <td>1.0</td>\n",
       "      <td>0.0</td>\n",
       "      <td>3.5</td>\n",
       "      <td>-1.937566</td>\n",
       "      <td>-0.090680</td>\n",
       "      <td>1.632621</td>\n",
       "      <td>0.054821</td>\n",
       "    </tr>\n",
       "    <tr>\n",
       "      <th>4</th>\n",
       "      <td>0.0</td>\n",
       "      <td>1.0</td>\n",
       "      <td>0.0</td>\n",
       "      <td>1.0</td>\n",
       "      <td>0.0</td>\n",
       "      <td>0.0</td>\n",
       "      <td>0.0</td>\n",
       "      <td>1.0</td>\n",
       "      <td>0.0</td>\n",
       "      <td>0.0</td>\n",
       "      <td>...</td>\n",
       "      <td>0.0</td>\n",
       "      <td>1.0</td>\n",
       "      <td>0.0</td>\n",
       "      <td>1.0</td>\n",
       "      <td>0.0</td>\n",
       "      <td>1.4</td>\n",
       "      <td>-1.495292</td>\n",
       "      <td>-0.090680</td>\n",
       "      <td>0.978512</td>\n",
       "      <td>-0.831685</td>\n",
       "    </tr>\n",
       "  </tbody>\n",
       "</table>\n",
       "<p>5 rows × 28 columns</p>\n",
       "</div>"
      ],
      "text/plain": [
       "   restEcg_abn  restEcg_hyp  restEcg_norm  noVessColored_0.0  \\\n",
       "0          0.0          1.0           0.0                1.0   \n",
       "1          0.0          1.0           0.0                0.0   \n",
       "2          0.0          1.0           0.0                0.0   \n",
       "3          0.0          0.0           1.0                1.0   \n",
       "4          0.0          1.0           0.0                1.0   \n",
       "\n",
       "   noVessColored_1.0  noVessColored_2.0  noVessColored_3.0  \\\n",
       "0                0.0                0.0                0.0   \n",
       "1                0.0                0.0                1.0   \n",
       "2                0.0                1.0                0.0   \n",
       "3                0.0                0.0                0.0   \n",
       "4                0.0                0.0                0.0   \n",
       "\n",
       "   chestPainType_abnang  chestPainType_angina  chestPainType_asympt  \\\n",
       "0                   0.0                   1.0                   0.0   \n",
       "1                   0.0                   0.0                   1.0   \n",
       "2                   0.0                   0.0                   1.0   \n",
       "3                   0.0                   0.0                   0.0   \n",
       "4                   1.0                   0.0                   0.0   \n",
       "\n",
       "      ...       thal_fix  thal_norm  thal_rev  fBsLt120_fal  fBsLt120_true  \\\n",
       "0     ...            1.0        0.0       0.0           0.0            1.0   \n",
       "1     ...            0.0        1.0       0.0           1.0            0.0   \n",
       "2     ...            0.0        0.0       1.0           1.0            0.0   \n",
       "3     ...            0.0        1.0       0.0           1.0            0.0   \n",
       "4     ...            0.0        1.0       0.0           1.0            0.0   \n",
       "\n",
       "   oldPeak       age  tRestBps     maxHr  cholesteral  \n",
       "0      2.3  0.937219  0.756938  0.019152    -0.272801  \n",
       "1      1.5  1.379493  1.604556 -1.812353     0.748607  \n",
       "2      2.6  1.379493 -0.655759 -0.896601    -0.349888  \n",
       "3      3.5 -1.937566 -0.090680  1.632621     0.054821  \n",
       "4      1.4 -1.495292 -0.090680  0.978512    -0.831685  \n",
       "\n",
       "[5 rows x 28 columns]"
      ]
     },
     "execution_count": 14,
     "metadata": {},
     "output_type": "execute_result"
    }
   ],
   "source": [
    "for i in values.columns:\n",
    "    scaler = StandardScaler()\n",
    "    scaler = scaler.fit(values[i])\n",
    "    normalized = scaler.transform(values[i])\n",
    "    df2[i]=normalized\n",
    "\n",
    "df2.head()    "
   ]
  },
  {
   "cell_type": "code",
   "execution_count": 15,
   "metadata": {
    "ExecuteTime": {
     "end_time": "2017-03-10T10:06:58.116974",
     "start_time": "2017-03-10T10:06:58.086350"
    },
    "collapsed": false
   },
   "outputs": [
    {
     "data": {
      "text/plain": [
       "H     160\n",
       "S1     53\n",
       "S2     35\n",
       "S3     35\n",
       "S4     13\n",
       "Name: indicator, dtype: int64"
      ]
     },
     "execution_count": 15,
     "metadata": {},
     "output_type": "execute_result"
    }
   ],
   "source": [
    "# summarize the predictions\n",
    "y.value_counts()"
   ]
  },
  {
   "cell_type": "code",
   "execution_count": 16,
   "metadata": {
    "ExecuteTime": {
     "end_time": "2017-03-10T10:07:00.158673",
     "start_time": "2017-03-10T10:07:00.151456"
    },
    "collapsed": false
   },
   "outputs": [],
   "source": [
    "# encode prediction values as integers\n",
    "encoder = LabelEncoder()\n",
    "encoder.fit(y)\n",
    "encoded_Y = encoder.transform(y)\n",
    "# convert integers to dummy variables (i.e. one hot encoded)\n",
    "y = np_utils.to_categorical(encoded_Y)"
   ]
  },
  {
   "cell_type": "code",
   "execution_count": 17,
   "metadata": {
    "ExecuteTime": {
     "end_time": "2017-03-10T10:07:01.728676",
     "start_time": "2017-03-10T10:07:01.717298"
    },
    "collapsed": false
   },
   "outputs": [
    {
     "data": {
      "text/plain": [
       "(array([[ 0.        ,  1.        ,  0.        , ...,  0.75693814,\n",
       "          0.01915184, -0.27280094],\n",
       "        [ 0.        ,  1.        ,  0.        , ...,  1.60455613,\n",
       "         -1.81235338,  0.74860744],\n",
       "        [ 0.        ,  1.        ,  0.        , ..., -0.65575852,\n",
       "         -0.89660077, -0.34988836],\n",
       "        ..., \n",
       "        [ 0.        ,  1.        ,  0.        , ..., -0.76877425,\n",
       "         -1.02742257, -1.89163686],\n",
       "        [ 0.        ,  1.        ,  0.        , ..., -0.65575852,\n",
       "         -1.2454589 ,  0.42098589],\n",
       "        [ 0.        ,  0.        ,  1.        , ...,  1.60455613,\n",
       "          0.58604631, -0.88950034]]), array([[ 1.,  0.,  0.,  0.,  0.],\n",
       "        [ 0.,  0.,  1.,  0.,  0.],\n",
       "        [ 0.,  1.,  0.,  0.,  0.],\n",
       "        ..., \n",
       "        [ 0.,  1.,  0.,  0.,  0.],\n",
       "        [ 1.,  0.,  0.,  0.,  0.],\n",
       "        [ 1.,  0.,  0.,  0.,  0.]]))"
      ]
     },
     "execution_count": 17,
     "metadata": {},
     "output_type": "execute_result"
    }
   ],
   "source": [
    "# convert X to a matrix\n",
    "X = df2.values\n",
    "X, y"
   ]
  },
  {
   "cell_type": "code",
   "execution_count": 32,
   "metadata": {
    "ExecuteTime": {
     "end_time": "2017-03-10T10:13:42.012279",
     "start_time": "2017-03-10T10:13:42.001294"
    },
    "collapsed": true
   },
   "outputs": [],
   "source": [
    "# define base model for 5 output\n",
    "def baseline_model():\n",
    "    # create model\n",
    "    model = Sequential()\n",
    "    model.add(Dense(28, input_dim=28, init='normal', activation='relu'))\n",
    "    model.add(Dense(9, init='normal', activation='relu'))\n",
    "    model.add(Dense(9, init='normal', activation='relu'))  \n",
    "    model.add(Dense(5, init='normal',activation='sigmoid')) \n",
    "    # Compile model\n",
    "    model.compile(loss='categorical_crossentropy', optimizer='adam',metrics=['accuracy'])\n",
    "    return model"
   ]
  },
  {
   "cell_type": "code",
   "execution_count": 37,
   "metadata": {
    "ExecuteTime": {
     "end_time": "2017-03-10T10:27:55.027878",
     "start_time": "2017-03-10T10:27:55.022776"
    },
    "collapsed": false
   },
   "outputs": [],
   "source": [
    "# fix random seed for reproducibility\n",
    "seed = 9\n",
    "np.random.seed(seed)\n",
    "# create model\n",
    "estimator = KerasClassifier(build_fn=baseline_model, nb_epoch=100,shuffle=True, batch_size=32, verbose=0)"
   ]
  },
  {
   "cell_type": "code",
   "execution_count": 38,
   "metadata": {
    "ExecuteTime": {
     "end_time": "2017-03-10T10:28:38.650082",
     "start_time": "2017-03-10T10:27:56.283853"
    },
    "collapsed": false
   },
   "outputs": [
    {
     "name": "stdout",
     "output_type": "stream",
     "text": [
      "Accuracy: 60.10% (8.81%)\n"
     ]
    }
   ],
   "source": [
    "# evaluate model with 9-fold cross validation\n",
    "np.random.seed(seed)\n",
    "kfold = KFold(n_splits=9, random_state=seed, shuffle=True)\n",
    "results = cross_val_score(estimator, X, y, cv=kfold)\n",
    "print(\"Accuracy: %.2f%% (%.2f%%)\" % (results.mean()*100, results.std()*100))"
   ]
  },
  {
   "cell_type": "markdown",
   "metadata": {},
   "source": [
    "25-25-9-9-5 Accuracy: 59.46% (5.88%) (relu)    -- less variance\n",
    "25-25-11-11-5 Accuracy: 58.08% (8.57%) (relu)\n",
    "25-25-7-7-5 Accuracy: 59.10% (7.68%) (relu)\n",
    "25-25-9-9-9-5 Accuracy: 59.44% (6.53%) (relu)"
   ]
  },
  {
   "cell_type": "code",
   "execution_count": null,
   "metadata": {
    "ExecuteTime": {
     "end_time": "2017-03-09T16:26:06.317363",
     "start_time": "2017-03-09T21:23:59.396Z"
    },
    "collapsed": false
   },
   "outputs": [],
   "source": [
    "# run the prediction on our data\n",
    "model = estimator.fit(X,y)\n",
    "ŷ = model.predict(X)"
   ]
  },
  {
   "cell_type": "code",
   "execution_count": null,
   "metadata": {
    "ExecuteTime": {
     "end_time": "2017-03-09T16:26:06.317803",
     "start_time": "2017-03-09T21:23:59.397Z"
    },
    "collapsed": false
   },
   "outputs": [],
   "source": [
    "results = model.score(X, y)\n",
    "print(\"Standardized: %.2f\" % results)\n",
    "print(\"Standardized: %.2f (%.2f)\" % (results.mean(), results.std()))"
   ]
  },
  {
   "cell_type": "code",
   "execution_count": null,
   "metadata": {
    "ExecuteTime": {
     "end_time": "2017-03-09T16:26:06.318190",
     "start_time": "2017-03-09T21:23:59.398Z"
    },
    "collapsed": false
   },
   "outputs": [],
   "source": [
    "#attach our prediction to the original dataset and view the output\n",
    "df['ŷ']=encoder.inverse_transform(ŷ)\n",
    "df['ŷ'].value_counts()"
   ]
  },
  {
   "cell_type": "code",
   "execution_count": null,
   "metadata": {
    "ExecuteTime": {
     "end_time": "2017-03-09T16:26:06.318573",
     "start_time": "2017-03-09T21:23:59.399Z"
    },
    "collapsed": false
   },
   "outputs": [],
   "source": [
    "# compare the prediction to the actual \n",
    "%matplotlib inline\n",
    "fig = plt.figure(figsize=(7,5))\n",
    "import collections\n",
    "a = collections.Counter(df['indicator'])\n",
    "b = collections.Counter(df['ŷ'])\n",
    "l1 = np.arange(5)\n",
    "plt.bar(l1, a.values(), .5, color='blue', label='Indicator')\n",
    "plt.xticks(l1, a.keys())\n",
    "plt.bar(l1+.5, b.values(), .5, color ='red', label='ŷ')\n",
    "plt.xticks(l1, b.keys())\n",
    "plt.legend(loc='upper left')\n",
    "fig.savefig('neural_net.png')"
   ]
  },
  {
   "cell_type": "code",
   "execution_count": null,
   "metadata": {
    "ExecuteTime": {
     "end_time": "2017-03-09T16:26:06.318999",
     "start_time": "2017-03-09T21:23:59.401Z"
    },
    "collapsed": true
   },
   "outputs": [],
   "source": [
    "pred_list=df['ŷ'].unique()"
   ]
  },
  {
   "cell_type": "code",
   "execution_count": null,
   "metadata": {
    "ExecuteTime": {
     "end_time": "2017-03-09T16:26:06.319368",
     "start_time": "2017-03-09T21:23:59.402Z"
    },
    "collapsed": false
   },
   "outputs": [],
   "source": [
    "# View the confusion matrix\n",
    "confusion_matrix(df['indicator'], df['ŷ'], labels=pred_list)"
   ]
  },
  {
   "cell_type": "code",
   "execution_count": null,
   "metadata": {
    "ExecuteTime": {
     "end_time": "2017-03-09T16:26:06.319776",
     "start_time": "2017-03-09T21:23:59.405Z"
    },
    "collapsed": false
   },
   "outputs": [],
   "source": [
    "# plot the confusion matrix in a better format, viewing both the normalized & unnormalized output\n",
    "def plot_confusion_matrix(cm, classes,\n",
    "                          normalize=False,\n",
    "                          title='Confusion matrix',\n",
    "                          cmap=plt.cm.Blues):\n",
    "    \"\"\"\n",
    "    This function prints and plots the confusion matrix.\n",
    "    Normalization can be applied by setting `normalize=True`.\n",
    "    \"\"\"\n",
    "    plt.imshow(cm, interpolation='nearest', cmap=cmap)\n",
    "    plt.title(title)\n",
    "    plt.colorbar()\n",
    "    tick_marks = np.arange(len(classes))\n",
    "    plt.xticks(tick_marks, classes, rotation=45)\n",
    "    plt.yticks(tick_marks, classes)\n",
    "\n",
    "    if normalize:\n",
    "        cm = cm.astype('float') / cm.sum(axis=1)[:, np.newaxis]\n",
    "        print(\"Normalized confusion matrix\")\n",
    "    else:\n",
    "        print('Confusion matrix, without normalization')\n",
    "\n",
    "    print(cm)\n",
    "\n",
    "    thresh = cm.max() / 2.\n",
    "    for i, j in itertools.product(range(cm.shape[0]), range(cm.shape[1])):\n",
    "        plt.text(j, i, cm[i, j],\n",
    "                 horizontalalignment=\"center\",\n",
    "                 color=\"white\" if cm[i, j] > thresh else \"black\")\n",
    "\n",
    "    plt.tight_layout()\n",
    "    plt.ylabel('True label')\n",
    "    plt.xlabel('Predicted label')\n",
    "\n",
    "# Compute confusion matrix\n",
    "cnf_matrix = confusion_matrix(df['indicator'], df['ŷ'])\n",
    "np.set_printoptions(precision=2)\n",
    "\n",
    "# Plot non-normalized confusion matrix\n",
    "plt.figure()\n",
    "plot_confusion_matrix(cnf_matrix, classes=pred_list,\n",
    "                      title='Confusion matrix, without normalization')\n",
    "\n",
    "# Plot normalized confusion matrix\n",
    "plt.figure()\n",
    "plot_confusion_matrix(cnf_matrix, classes=pred_list, normalize=True,\n",
    "                      title='Normalized confusion matrix')\n",
    "\n",
    "plt.show()"
   ]
  }
 ],
 "metadata": {
  "kernelspec": {
   "display_name": "Python 3",
   "language": "python",
   "name": "python3"
  },
  "language_info": {
   "codemirror_mode": {
    "name": "ipython",
    "version": 3
   },
   "file_extension": ".py",
   "mimetype": "text/x-python",
   "name": "python",
   "nbconvert_exporter": "python",
   "pygments_lexer": "ipython3",
   "version": "3.4.3"
  },
  "latex_envs": {
   "bibliofile": "biblio.bib",
   "cite_by": "apalike",
   "current_citInitial": 1,
   "eqLabelWithNumbers": true,
   "eqNumInitial": 0
  }
 },
 "nbformat": 4,
 "nbformat_minor": 0
}
